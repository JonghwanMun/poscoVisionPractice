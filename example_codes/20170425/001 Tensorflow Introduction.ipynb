{
 "cells": [
  {
   "cell_type": "code",
   "execution_count": 2,
   "metadata": {
    "collapsed": true
   },
   "outputs": [],
   "source": [
    "%matplotlib inline\n",
    "\n",
    "import random\n",
    "import numpy as np\n",
    "import tensorflow as tf\n",
    "import matplotlib.pyplot as plt"
   ]
  },
  {
   "cell_type": "markdown",
   "metadata": {},
   "source": [
    "### Reference for API of tensorflow\n",
    " - https://www.tensorflow.org/api_docs/"
   ]
  },
  {
   "cell_type": "markdown",
   "metadata": {},
   "source": [
    "### tensorflow 코드 기본 형태\n",
    "  - 준비 작업 \n",
    "  - 실제 작업 수행 (in session)"
   ]
  },
  {
   "cell_type": "code",
   "execution_count": null,
   "metadata": {
    "collapsed": true
   },
   "outputs": [],
   "source": [
    "\"\"\"\n",
    "Construct computational graph\n",
    "\"\"\"\n",
    "# define variables\n",
    "\n",
    "\n",
    "\"\"\"\n",
    "Running graph in GPU\n",
    "\"\"\"\n",
    "with tf.Session() as sess:\n",
    "    # initialize variable\n",
    "    sess.run(init)\n",
    "    \n",
    "    # Do your work (running model)"
   ]
  },
  {
   "cell_type": "markdown",
   "metadata": {},
   "source": [
    "### Tensor 종류\n",
    "  - constant (상수): no input, fixed output\n",
    "  - variables (변수): \n",
    "  - placeholder (모델/네트워크의 인풋): external inputs"
   ]
  },
  {
   "cell_type": "markdown",
   "metadata": {},
   "source": [
    "#### Constant (상수)"
   ]
  },
  {
   "cell_type": "code",
   "execution_count": 4,
   "metadata": {
    "collapsed": false
   },
   "outputs": [
    {
     "name": "stdout",
     "output_type": "stream",
     "text": [
      "Tensor(\"Const_2:0\", shape=(), dtype=float32)\n",
      "Tensor(\"Const_3:0\", shape=(), dtype=float32)\n"
     ]
    }
   ],
   "source": [
    "# constant (상수): no input, fixed (or predefined) output\n",
    "node1 = tf.constant(3.0, tf.float32)\n",
    "node2 = tf.constant(4.0) # also tf.float32 implicitly\n",
    "print(node1)\n",
    "print(node2)"
   ]
  },
  {
   "cell_type": "code",
   "execution_count": 7,
   "metadata": {
    "collapsed": false
   },
   "outputs": [
    {
     "name": "stdout",
     "output_type": "stream",
     "text": [
      "[3.0, 4.0]\n"
     ]
    }
   ],
   "source": [
    "# check what is different\n",
    "with tf.Session() as sess:\n",
    "    print(sess.run([node1, node2]))"
   ]
  },
  {
   "cell_type": "markdown",
   "metadata": {},
   "source": [
    "#### Mathematic operation (산술 연산) with constants"
   ]
  },
  {
   "cell_type": "code",
   "execution_count": 13,
   "metadata": {
    "collapsed": false
   },
   "outputs": [
    {
     "name": "stdout",
     "output_type": "stream",
     "text": [
      "node3_1:  Tensor(\"Add_4:0\", shape=(), dtype=float32)\n",
      "node3_2:  Tensor(\"add_2:0\", shape=(), dtype=float32)\n",
      "sess.run(node3):  7.0\n",
      "sess.run(node3):  7.0\n"
     ]
    }
   ],
   "source": [
    "node3_1 = tf.add(node1, node2)\n",
    "node3_2 = node1 + node2\n",
    "\n",
    "print(\"node3_1: \", node3_1)\n",
    "print(\"node3_2: \", node3_2)\n",
    "with tf.Session() as sess:\n",
    "    print(\"sess.run(node3): \", sess.run(node3_1))\n",
    "    print(\"sess.run(node3): \", sess.run(node3_2))"
   ]
  },
  {
   "cell_type": "markdown",
   "metadata": {},
   "source": [
    "#### Mathematic operation (산술 연산) with user typed inputs"
   ]
  },
  {
   "cell_type": "markdown",
   "metadata": {},
   "source": [
    "#### Addition"
   ]
  },
  {
   "cell_type": "code",
   "execution_count": 15,
   "metadata": {
    "collapsed": false
   },
   "outputs": [
    {
     "name": "stdout",
     "output_type": "stream",
     "text": [
      "7.5\n",
      "[ 4.  7.]\n"
     ]
    }
   ],
   "source": [
    "node1 = tf.placeholder(tf.float32)\n",
    "node2 = tf.placeholder(tf.float32)\n",
    "adder_node = node1 + node2 # (=tf.add(node1, node2))\n",
    "\n",
    "with tf.Session() as sess:\n",
    "    print(sess.run(adder_node, {node1: 3, node2: 4.5}))\n",
    "    print(sess.run(adder_node, {node1: [1,2], node2: [3,5]}))"
   ]
  },
  {
   "cell_type": "markdown",
   "metadata": {},
   "source": [
    "#### Multiplication"
   ]
  },
  {
   "cell_type": "code",
   "execution_count": 16,
   "metadata": {
    "collapsed": false
   },
   "outputs": [
    {
     "name": "stdout",
     "output_type": "stream",
     "text": [
      "22.5\n",
      "[ 12.  21.]\n"
     ]
    }
   ],
   "source": [
    "node1 = tf.placeholder(tf.float32)\n",
    "node2 = tf.placeholder(tf.float32)\n",
    "adder_node = node1 + node2 # (=tf.add(node1, node2))\n",
    "out_node = adder_node * 3\n",
    "\n",
    "with tf.Session() as sess:\n",
    "    print(sess.run(out_node, {node1: 3, node2: 4.5}))\n",
    "    print(sess.run(out_node, {node1: [1,2], node2: [3,5]}))"
   ]
  }
 ],
 "metadata": {
  "kernelspec": {
   "display_name": "Python 3",
   "language": "python",
   "name": "python3"
  },
  "language_info": {
   "codemirror_mode": {
    "name": "ipython",
    "version": 3
   },
   "file_extension": ".py",
   "mimetype": "text/x-python",
   "name": "python",
   "nbconvert_exporter": "python",
   "pygments_lexer": "ipython3",
   "version": "3.5.3"
  }
 },
 "nbformat": 4,
 "nbformat_minor": 2
}
