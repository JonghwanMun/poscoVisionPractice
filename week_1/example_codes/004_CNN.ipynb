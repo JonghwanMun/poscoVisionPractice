{
 "cells": [
  {
   "cell_type": "code",
   "execution_count": 2,
   "metadata": {
    "collapsed": true,
    "deletable": true,
    "editable": true
   },
   "outputs": [],
   "source": [
    "%matplotlib inline\n",
    "\n",
    "import math\n",
    "import random\n",
    "import numpy as np\n",
    "import tensorflow as tf\n",
    "import matplotlib.pyplot as plt"
   ]
  },
  {
   "cell_type": "markdown",
   "metadata": {},
   "source": [
    "#### API reference\n",
    "  - https://www.tensorflow.org/api_docs/python/tf/contrib/layers  "
   ]
  },
  {
   "cell_type": "markdown",
   "metadata": {
    "deletable": true,
    "editable": true
   },
   "source": [
    "### Convolutional layer\n",
    "  - 이미지가 인풋인 경우 tf.contrib.layers.conv2d()로 간단히 적용 가능\n",
    "    - 인풋: [batch_size, height, width, channel] 크기의 4-dim 데이터\n",
    "    - 주요 함수 파라미터\n",
    "      - inputs: 인풋 데이터\n",
    "      - num_outputs: output dimension\n",
    "      - kernel_size: 필터 크기\n",
    "      - stride: stride 크기 (몇 칸씩 움직일 것인가) (default: 1)\n",
    "      - padding: 양 옆 (가장자리)에 몇 개의 0을 붙일지에 대한 방법 \n",
    "        - SAME: 입력/출력 데이터 크기 유지되도록 padding\n",
    "        - VALID: padding 없이 진행\n",
    "    - 추가적으로 제공되는 기능 함수 파라미터\n",
    "      - activation_fc: convolution 연산 후 적용 할 activation 함수 (default: relu)\n",
    "      - normalizer_fn: dropout, batch-normalization과 같은 함수 (default: None)\n",
    "      - weights_initializer: weight 초기화 함수 (default: xavier_initializer)\n",
    "      - weights_regularizer: L2 normalization과 같은 함수 (default: None)\n",
    "      - biases_initializer\n",
    "      - biases_initializer\n",
    "      - <img src=\"../resource/convolution.png\" width=\"600\" height=\"400\">"
   ]
  },
  {
   "cell_type": "markdown",
   "metadata": {},
   "source": [
    "#### convolutional layer 예제 1"
   ]
  },
  {
   "cell_type": "code",
   "execution_count": 8,
   "metadata": {
    "collapsed": false
   },
   "outputs": [
    {
     "name": "stdout",
     "output_type": "stream",
     "text": [
      "input data:\n",
      "[[ 0.72779825  0.27322427  0.88988946 -1.04589035  1.08557927  0.56564219]\n",
      " [-0.61263425 -0.2192001   0.74078697 -0.68975175  0.83527752  0.82788006]\n",
      " [-0.14529889  1.45911961  1.82246006  0.98625156  2.00077984 -1.90555897]\n",
      " [ 0.90973621  0.643344   -0.43486309 -0.82414908 -1.62529854 -0.96242717]\n",
      " [-1.74158796  0.20903698 -0.73074806 -0.01209285  0.0477045   0.75997254]\n",
      " [-1.42037317 -0.48331209 -0.29589238 -2.5517964   0.22451886  0.42365891]] \n",
      "\n",
      "conv1 shape:  (1, 3, 3, 1)\n",
      "conv1:\n",
      "[[ 0.15481517  1.76303911  0.1844805 ]\n",
      " [ 0.          0.00429359  0.18552452]\n",
      " [ 0.95634812  1.49579477  0.        ]] \n",
      "\n",
      "conv_noReLu shape:  (1, 3, 3, 1)\n",
      "conv_noReLu:\n",
      "[[ 0.01683076 -1.00343883 -1.48803651]\n",
      " [ 0.29309848 -1.58401656 -1.40480816]\n",
      " [ 0.64232981  0.4992874   0.16121766]] \n",
      "\n",
      "conv_dropout shape:  (1, 3, 3, 1)\n",
      "conv_dropout:\n",
      "[[ 0.30555835  0.          0.        ]\n",
      " [ 2.02985358  1.89041007  0.        ]\n",
      " [ 0.          0.          0.21663754]] \n",
      "\n"
     ]
    }
   ],
   "source": [
    "# 인풋 데이터를 위한 placeholder 정의\n",
    "x = tf.placeholder(tf.float32, shape=(1,6,6,1))\n",
    "\n",
    "# 1. num_output (1), 필터 크기 (3,3), stride (2)의 convolutional layer \n",
    "conv1 = tf.contrib.layers.conv2d(x, 1, [3,3], 2) # relu 자동 적용\n",
    "\"\"\"\n",
    "    위의 conv2d 함수 호출은 사실상 아래의 식과 같음\n",
    "    conv1 = tf.contrib.layers.conv2d(x, 1, [3,3], 2, activation_fn=None)\n",
    "    conv1 = tf.nn.relu(conv1)\n",
    "\"\"\"\n",
    "\n",
    "# 2. relu 비 적용하기\n",
    "conv_noReLu = tf.contrib.layers.conv2d(x, 1, [3,3], 2, activation_fn=None)\n",
    "\n",
    "# 3. dropout 적용\n",
    "conv_dropout = tf.contrib.layers.conv2d(x, 1, [3,3], 2,\\\n",
    "                   normalizer_fn=tf.nn.dropout, \\\n",
    "                   normalizer_params={'keep_prob':0.8})\n",
    "\"\"\"\n",
    "    위의 conv2d 함수 호출은 사실상 아래의 식과 같음\n",
    "    conv_dropout = tf.contrib.layers.conv2d(x, 1, [3,3], 2, activation_fn=None)\n",
    "    conv_dropout = tf.nn.relu(conv_dropout)\n",
    "    conv_dropout = tf.nn.dropout(conv_dropout)\n",
    "\"\"\"\n",
    "\n",
    "init = tf.global_variables_initializer()\n",
    "with tf.Session() as sess:\n",
    "    sess.run(init)\n",
    "    \n",
    "    inp = np.random.randn(1,6,6,1)\n",
    "    print 'input data:\\n', inp[0,:,:,0], '\\n'\n",
    "    \n",
    "    conv1_res = sess.run(conv1, {x:inp})\n",
    "    print 'conv1 filer shape: ', conv1_res.shape\n",
    "    print 'conv1:\\n', conv1_res[0,:,:,0], '\\n'\n",
    "    \n",
    "    conv_noReLu_res = sess.run(conv_noReLu, {x:inp})\n",
    "    print 'conv_noReLu filer shape: ', conv_noReLu_res.shape\n",
    "    print 'conv_noReLu:\\n', conv_noReLu_res[0,:,:,0], '\\n'\n",
    "    \n",
    "    conv_dropout_res = sess.run(conv_dropout, {x:inp})\n",
    "    print 'conv_dropout filer shape: ', conv_dropout_res.shape\n",
    "    print 'conv_dropout:\\n', conv_dropout_res[0,:,:,0], '\\n'"
   ]
  },
  {
   "cell_type": "markdown",
   "metadata": {},
   "source": [
    "#### convolutional layer 예제 2"
   ]
  },
  {
   "cell_type": "code",
   "execution_count": 20,
   "metadata": {
    "collapsed": false
   },
   "outputs": [
    {
     "name": "stdout",
     "output_type": "stream",
     "text": [
      "shape of input data: (1, 10, 10, 1)\n",
      "shape of 'same' padding conv result:  (1, 10, 10, 1)\n",
      "shape of 'valid' padding conv result:  (1, 6, 6, 1)\n"
     ]
    }
   ],
   "source": [
    "# 인풋 데이터를 위한 placeholder 정의\n",
    "x = tf.placeholder(tf.float32, shape=(1,10,10,1))\n",
    "\n",
    "# num_output (1), 필터 크기 (5,5), stride (1)의 convolutional layer\n",
    "# 1. SAME으로 padding 주기\n",
    "same_conv = tf.contrib.layers.conv2d(x, 1, [5,5], 1, padding='SAME')\n",
    "\n",
    "# 2. VALID로 padding 주기\n",
    "valid_conv = tf.contrib.layers.conv2d(x, 1, [5,5], 1, padding='VALID')\n",
    "\n",
    "init = tf.global_variables_initializer()\n",
    "with tf.Session() as sess:\n",
    "    sess.run(init)\n",
    "    \n",
    "    inp = np.random.randn(1,10,10,1)\n",
    "    print 'shape of input data:', inp.shape\n",
    "    \n",
    "    same_res = sess.run(same_conv, {x:inp})\n",
    "    print \"shape of 'same' padding conv result: \", same_res.shape\n",
    "    \n",
    "    valid_res = sess.run(valid_conv, {x:inp})\n",
    "    print \"shape of 'valid' padding conv result: \", valid_res.shape"
   ]
  },
  {
   "cell_type": "markdown",
   "metadata": {},
   "source": [
    "### Max pooling layer\n",
    "  - tf.contrib.layers.max_pool2d()로 간단히 적용 가능\n",
    "  - 인풋: [batch_size, height, width, channel] 크기의 4-dim 데이터\n",
    "  - 함수 파라미터\n",
    "    - inputs: 인풋 데이터\n",
    "    - num_outputs: output dimension\n",
    "    - kernel_size: 필터 크기\n",
    "    - stride: stride 크기 (몇 칸씩 움직일 것인가) (default: 2)\n",
    "    - padding: 양 옆 (가장자리)에 몇 개의 0을 붙일지에 대한 방법 \n",
    "      - SAME: 입력/출력 데이터 크기 유지되도록 padding\n",
    "      - VALID: padding 없이 진행\n",
    "      - <img src=\"../resource/pooling.png\" width=\"300\" height=\"300\">"
   ]
  },
  {
   "cell_type": "markdown",
   "metadata": {},
   "source": [
    "#### pooling layer 예제"
   ]
  },
  {
   "cell_type": "code",
   "execution_count": 15,
   "metadata": {
    "collapsed": false
   },
   "outputs": [
    {
     "name": "stdout",
     "output_type": "stream",
     "text": [
      " input data:\n",
      "[[-1.4907695   0.77464655  0.26188201 -1.12387434]\n",
      " [-1.10306545 -2.36949659 -0.7333842  -1.9290388 ]\n",
      " [ 0.986132    0.71187773  0.39659664  1.47691859]\n",
      " [-0.93051237 -0.19330032 -0.32219061  1.21276647]] \n",
      "\n",
      "pooling shape:  (1, 2, 2, 1)\n",
      "pooling:\n",
      "[[ 0.77464652  0.26188201]\n",
      " [ 0.98613203  1.47691858]] \n",
      "\n"
     ]
    }
   ],
   "source": [
    "# 인풋 데이터를 위한 placeholder 정의\n",
    "x = tf.placeholder(tf.float32, shape=(1,4,4,1))\n",
    "\n",
    "# 1.  필터 크기 (2,2), stride (2)의 convolutional layer \n",
    "pooling = tf.contrib.layers.max_pool2d(x, [2,2], 2)\n",
    "\n",
    "init = tf.global_variables_initializer()\n",
    "with tf.Session() as sess:\n",
    "    sess.run(init)\n",
    "    \n",
    "    inp = np.random.randn(1,4,4,1)\n",
    "    print 'input data:\\n', inp[0,:,:,0], '\\n'\n",
    "    \n",
    "    pooling_res = sess.run(pooling, {x:inp})\n",
    "    print 'pooling filer shape: ', pooling_res.shape\n",
    "    print 'pooling:\\n', pooling_res[0,:,:,0], '\\n'"
   ]
  }
 ],
 "metadata": {
  "kernelspec": {
   "display_name": "Python 2",
   "language": "python",
   "name": "python2"
  },
  "language_info": {
   "codemirror_mode": {
    "name": "ipython",
    "version": 2
   },
   "file_extension": ".py",
   "mimetype": "text/x-python",
   "name": "python",
   "nbconvert_exporter": "python",
   "pygments_lexer": "ipython2",
   "version": "2.7.12"
  }
 },
 "nbformat": 4,
 "nbformat_minor": 2
}
