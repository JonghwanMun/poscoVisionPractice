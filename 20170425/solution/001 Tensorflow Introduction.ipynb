{
 "cells": [
  {
   "cell_type": "code",
   "execution_count": 2,
   "metadata": {
    "collapsed": true,
    "deletable": true,
    "editable": true
   },
   "outputs": [],
   "source": [
    "#-*- coding: utf-8 -*-\n",
    "%matplotlib inline\n",
    "\n",
    "import random\n",
    "import numpy as np\n",
    "import tensorflow as tf\n",
    "import matplotlib.pyplot as plt\n",
    "import sys\n",
    "\n"
   ]
  },
  {
   "cell_type": "markdown",
   "metadata": {
    "deletable": true,
    "editable": true
   },
   "source": [
    "### Reference for API of tensorflow\n",
    " - https://www.tensorflow.org/api_docs/"
   ]
  },
  {
   "cell_type": "markdown",
   "metadata": {
    "deletable": true,
    "editable": true
   },
   "source": [
    "### Mathematic operation\n",
    " - reference:<br>\n",
    " https://www.tensorflow.org/versions/master/api_guides/python/math_ops#Arithmetic_Operators\n",
    " - 주요 API (기본 연산) <br>\n",
    "     - tf.add(x,y): element-wise addition\n",
    "     - tf.subtract(x,y): element-wise subtraction\n",
    "     - tf.multiply(x,y): element-wise multiplication\n",
    "     - tf.scalar_mul(scalar, x): multipy a scalar to x\n",
    "     - tf.div(x,y): element-wise division \n",
    "     - tf.mod(x,y): element-wise remainder of division\n",
    " - 주요 API (산술 연산): <br>\n",
    "     - tf.abs(), tf.neg(), tf.inv(), tf.square(), tf.sqrt(), tf.pow(),tf.log(), tf.ceil(), tf.floor(), tf.maximum(), tf.minimum(), tf.cos(), tf.sin(), tf.tan()\n",
    " - 주요 API (벡터/매트릭스 연산): <br>\n",
    "     - tf.matmul(), tf.reduce_mean(), tf.reduce_sum(), reduce_min(), reduce_max(), \n",
    " - 필요에 따라 API를 검색해서 사용해주세요."
   ]
  },
  {
   "cell_type": "markdown",
   "metadata": {
    "deletable": true,
    "editable": true
   },
   "source": [
    "#### Problem 1 세제곱수 및 제곱근 계산\n",
    "  - 인풋은 float32 타입의 variable로 선언\n",
    "  - 정답:<br>\n",
    "  input: \n",
    " [[1 2]\n",
    " [3 4]] <br>\n",
    "세제곱수:  [[  1.   8.] [  27.  64.]] <br>\n",
    "제곱근:  [[ 1.          1.41421354] [ 1.73205078  2.        ]]"
   ]
  },
  {
   "cell_type": "code",
   "execution_count": 10,
   "metadata": {
    "collapsed": false,
    "deletable": true,
    "editable": true
   },
   "outputs": [
    {
     "name": "stdout",
     "output_type": "stream",
     "text": [
      "input: \n",
      "[[1 2]\n",
      " [3 4]]\n",
      "Cube: \n",
      "[[  1.   8.]\n",
      " [ 27.  64.]]\n",
      "Square Root: \n",
      "[[ 1.          1.41421354]\n",
      " [ 1.73205078  2.        ]]\n"
     ]
    }
   ],
   "source": [
    "# TODO: 변수 정의\n",
    "node1 = tf.placeholder(tf.float32)\n",
    "\n",
    "# TODO: 세제곱수 계산\n",
    "node2 = tf.pow(node1, 3)\n",
    "\n",
    "# TODO: 제곱근 계산\n",
    "node3 = tf.sqrt(node1)\n",
    "\n",
    "inp = np.arange(1,5).reshape(2,2)\n",
    "print \"input: \\n\", inp\n",
    "\n",
    "init = tf.global_variables_initializer()\n",
    "with tf.Session() as sess:\n",
    "    sess.run(init)\n",
    "    \n",
    "    res1, res2 = sess.run([node2, node3], {node1:inp})\n",
    "    print \"Cube: \\n\", res1\n",
    "    print \"Square Root: \\n\", res2"
   ]
  },
  {
   "cell_type": "markdown",
   "metadata": {
    "deletable": true,
    "editable": true
   },
   "source": [
    "#### Problem 2 매트릭스 element-wise 곱셈\n",
    "  - [1 2] <br>\n",
    "    [3 4] <br>\n",
    "    \\* <br>\n",
    "    [3 4] <br>\n",
    "    [5 6] <br>\n",
    "    = <br>\n",
    "    [3 8] <br>\n",
    "    [15 24]    "
   ]
  },
  {
   "cell_type": "code",
   "execution_count": 5,
   "metadata": {
    "collapsed": false,
    "deletable": true,
    "editable": true
   },
   "outputs": [
    {
     "name": "stdout",
     "output_type": "stream",
     "text": [
      "input A: \n",
      "[[1 2]\n",
      " [3 4]]\n",
      "input B: \n",
      "[[3 4]\n",
      " [5 6]]\n",
      "A * B: \n",
      "[array([[  3.,   8.],\n",
      "       [ 15.,  24.]], dtype=float32)]\n"
     ]
    }
   ],
   "source": [
    "# TODO: 변수 정의\n",
    "node1 = tf.placeholder(tf.float32)\n",
    "node2 = tf.placeholder(tf.float32)\n",
    "\n",
    "# TODO: element-wise multiplcation\n",
    "node3 = tf.multiply(node1, node2)\n",
    "\n",
    "inp  = np.arange(1,5).reshape(2,2)\n",
    "inp2 = np.arange(3,7).reshape(2,2)\n",
    "print \"input A: \\n\", inp\n",
    "print \"input B: \\n\", inp2\n",
    "\n",
    "init = tf.global_variables_initializer()\n",
    "\n",
    "with tf.Session() as sess:\n",
    "    sess.run(init)\n",
    "    \n",
    "    res1 = sess.run([node3], {node1:inp, node2:inp2})\n",
    "    print \"A * B: \\n\", res1"
   ]
  },
  {
   "cell_type": "code",
   "execution_count": null,
   "metadata": {
    "collapsed": true,
    "deletable": true,
    "editable": true
   },
   "outputs": [],
   "source": []
  },
  {
   "cell_type": "markdown",
   "metadata": {
    "deletable": true,
    "editable": true
   },
   "source": [
    "#### Problem 3 매트릭스 곱셈\n",
    "  - [1 2] <br>\n",
    "    [3 4] <br>\n",
    "    \\* <br>\n",
    "    [3 4] <br>\n",
    "    [5 6] <br>\n",
    "    = <br>\n",
    "    [13 16] <br>\n",
    "    [29 36]    "
   ]
  },
  {
   "cell_type": "code",
   "execution_count": 7,
   "metadata": {
    "collapsed": false,
    "deletable": true,
    "editable": true
   },
   "outputs": [
    {
     "name": "stdout",
     "output_type": "stream",
     "text": [
      "input A: \n",
      "[[1 2]\n",
      " [3 4]]\n",
      "input B: \n",
      "[[3 4]\n",
      " [5 6]]\n",
      "A * B: \n",
      "[array([[ 13.,  16.],\n",
      "       [ 29.,  36.]], dtype=float32)]\n"
     ]
    }
   ],
   "source": [
    "# TODO: 변수 정의\n",
    "node1 = tf.placeholder(tf.float32)\n",
    "node2 = tf.placeholder(tf.float32)\n",
    "\n",
    "# TODO: matrix multiplcation\n",
    "node3 = tf.matmul(node1, node2)\n",
    "\n",
    "inp  = np.arange(1,5).reshape(2,2)\n",
    "inp2 = np.arange(3,7).reshape(2,2)\n",
    "print \"input A: \\n\", inp\n",
    "print \"input B: \\n\", inp2\n",
    "\n",
    "init = tf.global_variables_initializer()\n",
    "\n",
    "with tf.Session() as sess:\n",
    "    sess.run(init)\n",
    "    \n",
    "    res1 = sess.run([node3], {node1:inp, node2:inp2})\n",
    "    print \"A * B: \\n\", res1"
   ]
  },
  {
   "cell_type": "code",
   "execution_count": null,
   "metadata": {
    "collapsed": true,
    "deletable": true,
    "editable": true
   },
   "outputs": [],
   "source": []
  },
  {
   "cell_type": "markdown",
   "metadata": {
    "deletable": true,
    "editable": true
   },
   "source": [
    "#### Problem 4 평균값 계산\n",
    "  - input (2-dim matrix): <br>\n",
    "    [1 2 3 4 5] <br>\n",
    "    [6 7 8 9 10] <br>\n",
    "  - output1 (모든 데이터에 대한 평균): 5.5 \n",
    "  - output2 (각 행에 대한 평균): <br> [3.5, 4.5, 5.5, 6.5, 7.5] \n",
    "  - output3 (각 열에 대한 평균):<br> [3] <br> [8] "
   ]
  },
  {
   "cell_type": "code",
   "execution_count": 11,
   "metadata": {
    "collapsed": false,
    "deletable": true,
    "editable": true
   },
   "outputs": [
    {
     "name": "stdout",
     "output_type": "stream",
     "text": [
      "input: \n",
      "[[ 1  2  3  4  5]\n",
      " [ 6  7  8  9 10]]\n",
      "output1:  5.5\n",
      "output2:  [[ 3.5  4.5  5.5  6.5  7.5]]\n",
      "output3: \n",
      "[[ 3.        ]\n",
      " [ 8.00000095]]\n"
     ]
    }
   ],
   "source": [
    "# TODO: 변수 정의\n",
    "node1 = tf.placeholder(tf.float32)\n",
    "\n",
    "# TODO: Calculate Average for all value\n",
    "node2 = tf.reduce_mean(node1)\n",
    "\n",
    "# TODO: Calculate Average for each column\n",
    "node3 = tf.reduce_mean(node1, 0, keep_dims=True)\n",
    "\n",
    "# TODO: Calculate Average for each row\n",
    "node4 = tf.reduce_mean(node1, 1, keep_dims=True)\n",
    "\n",
    "inp  = np.arange(1,11).reshape(2,5)\n",
    "print \"input: \\n\", inp\n",
    "\n",
    "init = tf.global_variables_initializer()\n",
    "\n",
    "with tf.Session() as sess:\n",
    "    sess.run(init)\n",
    "    \n",
    "    res1, res2, res3 = sess.run([node2, node3, node4], {node1:inp})\n",
    "    print \"output1: \", res1\n",
    "    print \"output2: \", res2\n",
    "    print \"output3: \\n\", res3"
   ]
  },
  {
   "cell_type": "code",
   "execution_count": null,
   "metadata": {
    "collapsed": true,
    "deletable": true,
    "editable": true
   },
   "outputs": [],
   "source": []
  },
  {
   "cell_type": "markdown",
   "metadata": {
    "deletable": true,
    "editable": true
   },
   "source": [
    "#### Problem 5 softmax 구현\n",
    "  - softmax$(x_i)=\\frac{\\exp^{x_i}}{\\sum_{j=1}^{K}\\exp^{x_i}}$"
   ]
  },
  {
   "cell_type": "code",
   "execution_count": 13,
   "metadata": {
    "collapsed": false,
    "deletable": true,
    "editable": true
   },
   "outputs": [
    {
     "name": "stdout",
     "output_type": "stream",
     "text": [
      "softmax using tensorflow: \n",
      "[[ 0.07368489  0.01020653  0.0179082   0.03143091  0.05218411  0.39887774\n",
      "   0.02413732  0.10023066  0.07753238  0.21380734]]\n",
      "softmax using numpy: \n",
      "[[ 0.07368488  0.01020653  0.0179082   0.03143091  0.05218411  0.39887769\n",
      "   0.02413731  0.10023065  0.07753238  0.21380733]]\n"
     ]
    }
   ],
   "source": [
    "node1 = tf.placeholder(tf.float32)\n",
    "\n",
    "# TODO: implement softmax\n",
    "node2 = tf.div(tf.exp(node1), tf.reduce_sum(tf.exp(node1)))\n",
    "\n",
    "with tf.Session() as sess:\n",
    "    inp = np.random.randn(1,10)\n",
    "    print \"softmax using tensorflow: \\n\", sess.run(node2, {node1:inp})\n",
    "    #print(\"softmax using tensorflow: \\n\", sess.run(node2, {node1:inp}))\n",
    "    print \"softmax using numpy: \\n\", np.exp(inp) / np.sum(np.exp(inp), axis=1)"
   ]
  },
  {
   "cell_type": "code",
   "execution_count": null,
   "metadata": {
    "collapsed": true,
    "deletable": true,
    "editable": true
   },
   "outputs": [],
   "source": []
  },
  {
   "cell_type": "markdown",
   "metadata": {
    "deletable": true,
    "editable": true
   },
   "source": [
    "#### Problem 6 L1 loss 정의\n",
    "  - $y_i$: ground-truth label\n",
    "  - $f(x_i)$: predicted label\n",
    "  - $L = \\sum_i{|y_i - f(x_i)|}$"
   ]
  },
  {
   "cell_type": "code",
   "execution_count": 14,
   "metadata": {
    "collapsed": true,
    "deletable": true,
    "editable": true
   },
   "outputs": [],
   "source": [
    "# define ground-truth label\n",
    "x = tf.placeholder(tf.float32)\n",
    "true_label = tf.placeholder(tf.float32) # y\n",
    "\n",
    "W = tf.Variable([.3], tf.float32)\n",
    "b = tf.Variable([-.3], tf.float32)\n",
    "linear_model = W * x + b # f(x)\n",
    "\n",
    "# TODO: define L1 loss\n",
    "l1_loss = tf.reduce_sum(tf.abs(tf.subtract(true_label, linear_model)))"
   ]
  },
  {
   "cell_type": "code",
   "execution_count": null,
   "metadata": {
    "collapsed": true,
    "deletable": true,
    "editable": true
   },
   "outputs": [],
   "source": []
  },
  {
   "cell_type": "code",
   "execution_count": 15,
   "metadata": {
    "collapsed": false,
    "deletable": true,
    "editable": true
   },
   "outputs": [
    {
     "ename": "NameError",
     "evalue": "name 'labels' is not defined",
     "output_type": "error",
     "traceback": [
      "\u001b[0;31m---------------------------------------------------------------------------\u001b[0m",
      "\u001b[0;31mNameError\u001b[0m                                 Traceback (most recent call last)",
      "\u001b[0;32m<ipython-input-15-79aa3cb860ae>\u001b[0m in \u001b[0;36m<module>\u001b[0;34m()\u001b[0m\n\u001b[0;32m----> 1\u001b[0;31m \u001b[0mcross_entropy_loss\u001b[0m \u001b[0;34m=\u001b[0m \u001b[0;34m-\u001b[0m\u001b[0mtf\u001b[0m\u001b[0;34m.\u001b[0m\u001b[0mreduce_sum\u001b[0m\u001b[0;34m(\u001b[0m\u001b[0mlabels\u001b[0m \u001b[0;34m*\u001b[0m \u001b[0mtf\u001b[0m\u001b[0;34m.\u001b[0m\u001b[0mlog\u001b[0m\u001b[0;34m(\u001b[0m\u001b[0mpreds\u001b[0m\u001b[0;34m)\u001b[0m\u001b[0;34m,\u001b[0m \u001b[0mreduction_indices\u001b[0m\u001b[0;34m=\u001b[0m\u001b[0;34m[\u001b[0m\u001b[0;36m1\u001b[0m\u001b[0;34m]\u001b[0m\u001b[0;34m)\u001b[0m\u001b[0;34m\u001b[0m\u001b[0m\n\u001b[0m",
      "\u001b[0;31mNameError\u001b[0m: name 'labels' is not defined"
     ]
    }
   ],
   "source": [
    "cross_entropy_loss = -tf.reduce_sum(labels * tf.log(preds), reduction_indices=[1])"
   ]
  },
  {
   "cell_type": "markdown",
   "metadata": {
    "deletable": true,
    "editable": true
   },
   "source": [
    "#### Problem 7 cross-entropy loss 정의\n",
    "  - $y_i$: ground-truth label, one-hot vector\n",
    "  - $f(x_i)$: predicted label\n",
    "  - $L = -\\sum_i{y_i \\log(x_{i})}$"
   ]
  },
  {
   "cell_type": "code",
   "execution_count": 17,
   "metadata": {
    "collapsed": false,
    "deletable": true,
    "editable": true
   },
   "outputs": [
    {
     "name": "stdout",
     "output_type": "stream",
     "text": [
      "input prediction:\n",
      "[[ 0.57076103  1.205196    0.35827189  1.15277773  0.29856302  0.46777165\n",
      "   1.15574465  0.90157554  0.30039495  0.30863809]]\n",
      "label:\n",
      "[ 0.  0.  0.  0.  0.  0.  0.  0.  1.  0.] \n",
      "\n",
      "cross_entropy loss tensorflow: \n",
      "[ 1.20265722]\n",
      "cross_entropy loss using numpy: \n",
      "[ 1.20265717]\n"
     ]
    }
   ],
   "source": [
    "node1 = tf.placeholder(tf.float32)\n",
    "node2 = tf.placeholder(tf.float32)\n",
    "\n",
    "# TODO: implement cross-entropy loss\n",
    "loss = -tf.reduce_sum(node2 * tf.log(node1), reduction_indices=[1])\n",
    "\n",
    "with tf.Session() as sess:\n",
    "    inp = np.abs(np.random.randn(1,10))\n",
    "    label = np.zeros(10)\n",
    "    label[np.random.randint(10)] = 1.0\n",
    "    print \"input prediction:\\n\", inp \n",
    "    print \"label:\\n\", label, \"\\n\" \n",
    "    \n",
    "    print \"cross_entropy loss tensorflow: \\n\", sess.run(loss, {node1:inp, node2:label})\n",
    "    print \"cross_entropy loss using numpy: \\n\", -np.sum(label*np.log(inp), 1)"
   ]
  },
  {
   "cell_type": "code",
   "execution_count": null,
   "metadata": {
    "collapsed": true
   },
   "outputs": [],
   "source": []
  }
 ],
 "metadata": {
  "anaconda-cloud": {},
  "kernelspec": {
   "display_name": "Python [conda root]",
   "language": "python",
   "name": "conda-root-py"
  },
  "language_info": {
   "codemirror_mode": {
    "name": "ipython",
    "version": 2
   },
   "file_extension": ".py",
   "mimetype": "text/x-python",
   "name": "python",
   "nbconvert_exporter": "python",
   "pygments_lexer": "ipython2",
   "version": "2.7.12"
  }
 },
 "nbformat": 4,
 "nbformat_minor": 2
}
