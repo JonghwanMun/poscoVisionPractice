{
 "cells": [
  {
   "cell_type": "code",
   "execution_count": 3,
   "metadata": {
    "collapsed": true,
    "deletable": true,
    "editable": true
   },
   "outputs": [],
   "source": [
    "%matplotlib inline\n",
    "\n",
    "import random\n",
    "import numpy as np\n",
    "import tensorflow as tf\n",
    "import matplotlib.pyplot as plt"
   ]
  },
  {
   "cell_type": "markdown",
   "metadata": {
    "deletable": true,
    "editable": true
   },
   "source": [
    "### Reference for API of tensorflow\n",
    " - https://www.tensorflow.org/api_docs/"
   ]
  },
  {
   "cell_type": "markdown",
   "metadata": {
    "deletable": true,
    "editable": true
   },
   "source": [
    "### Mathematic operation\n",
    " - reference:<br>\n",
    " https://www.tensorflow.org/versions/master/api_guides/python/math_ops#Arithmetic_Operators\n",
    " - 주요 API (기본 연산) <br>\n",
    "     - tf.add(x,y): element-wise addition\n",
    "     - tf.subtract(x,y): element-wise subtraction\n",
    "     - tf.multiply(x,y): element-wise multiplication\n",
    "     - tf.scalar_mul(scalar, x): multipy a scalar to x\n",
    "     - tf.div(x,y): element-wise division \n",
    "     - tf.mod(x,y): element-wise remainder of division\n",
    " - 주요 API (산술 연산): <br>\n",
    "     - tf.abs(), tf.neg(), tf.inv(), tf.square(), tf.sqrt(), tf.pow(),tf.log(), tf.ceil(), tf.floor(), tf.maximum(), tf.minimum(), tf.cos(), tf.sin(), tf.tan()\n",
    " - 주요 API (벡터/매트릭스 연산): <br>\n",
    "     - tf.matmul(), tf.reduce_mean(), tf.reduce_sum(), reduce_min(), reduce_max(), \n",
    " - 필요에 따라 API를 검색해서 사용해주세요."
   ]
  },
  {
   "cell_type": "markdown",
   "metadata": {
    "deletable": true,
    "editable": true
   },
   "source": [
    "#### Problem 1 세제곱수 및 제곱근 계산\n",
    "  - 인풋은 float32 타입의 variable로 선언\n",
    "  - 정답:<br>\n",
    "  input: \n",
    " [[1 2]\n",
    " [3 4]] <br>\n",
    "세제곱수:  [[  1.   8.] [  27.  64.]] <br>\n",
    "제곱근:  [[ 1.          1.41421354] [ 1.73205078  2.        ]]"
   ]
  },
  {
   "cell_type": "code",
   "execution_count": null,
   "metadata": {
    "collapsed": true,
    "deletable": true,
    "editable": true
   },
   "outputs": [],
   "source": [
    "# TODO: 변수 정의\n",
    "node1 = \n",
    "\n",
    "# TODO: 세제곱수 계산\n",
    "node2 = \n",
    "\n",
    "# TODO: 제곱근 계산\n",
    "node3 = \n",
    "\n",
    "inp = np.arange(1,5).reshape(2,2)\n",
    "print(\"input: \\n\", inp)\n",
    "\n",
    "init = tf.global_variables_initializer()\n",
    "with tf.Session() as sess:\n",
    "    sess.run(init)\n",
    "    \n",
    "    res1, res2 = sess.run([node2, node3], {node1:inp})\n",
    "    print(\"세제곱수: \\n\", res1)\n",
    "    print(\"제곱근: \\n\", res2)"
   ]
  },
  {
   "cell_type": "code",
   "execution_count": null,
   "metadata": {
    "collapsed": true,
    "deletable": true,
    "editable": true
   },
   "outputs": [],
   "source": []
  },
  {
   "cell_type": "markdown",
   "metadata": {
    "deletable": true,
    "editable": true
   },
   "source": [
    "#### Problem 2 매트릭스 element-wise 곱셈\n",
    "  - [1 2] <br>\n",
    "    [3 4] <br>\n",
    "    \\* <br>\n",
    "    [3 4] <br>\n",
    "    [5 6] <br>\n",
    "    = <br>\n",
    "    [3 8] <br>\n",
    "    [15 24]    "
   ]
  },
  {
   "cell_type": "code",
   "execution_count": 12,
   "metadata": {
    "collapsed": false,
    "deletable": true,
    "editable": true
   },
   "outputs": [],
   "source": [
    "# TODO: implement matrix element-wise multiplication"
   ]
  },
  {
   "cell_type": "code",
   "execution_count": null,
   "metadata": {
    "collapsed": true,
    "deletable": true,
    "editable": true
   },
   "outputs": [],
   "source": []
  },
  {
   "cell_type": "markdown",
   "metadata": {
    "deletable": true,
    "editable": true
   },
   "source": [
    "#### Problem 3 매트릭스 곱셈\n",
    "  - [1 2] <br>\n",
    "    [3 4] <br>\n",
    "    \\* <br>\n",
    "    [3 4] <br>\n",
    "    [5 6] <br>\n",
    "    = <br>\n",
    "    [13 16] <br>\n",
    "    [29 36]    "
   ]
  },
  {
   "cell_type": "code",
   "execution_count": 14,
   "metadata": {
    "collapsed": true,
    "deletable": true,
    "editable": true
   },
   "outputs": [],
   "source": [
    "# TODO: implement matrix multiplication"
   ]
  },
  {
   "cell_type": "code",
   "execution_count": null,
   "metadata": {
    "collapsed": true,
    "deletable": true,
    "editable": true
   },
   "outputs": [],
   "source": []
  },
  {
   "cell_type": "markdown",
   "metadata": {
    "deletable": true,
    "editable": true
   },
   "source": [
    "#### Problem 4 평균값 계산\n",
    "  - input (2-dim matrix): <br>\n",
    "    [1 2 3 4 5] <br>\n",
    "    [6 7 8 9 10] <br>\n",
    "  - output1 (모든 데이터에 대한 평균): 5.5 \n",
    "  - output2 (각 행에 대한 평균): <br> [3.5, 4.5, 5.5, 6.5, 7.5] \n",
    "  - output3 (각 열에 대한 평균):<br> [3] <br> [8] "
   ]
  },
  {
   "cell_type": "code",
   "execution_count": null,
   "metadata": {
    "collapsed": true,
    "deletable": true,
    "editable": true
   },
   "outputs": [],
   "source": [
    "# TODO: implement 평균값 계산"
   ]
  },
  {
   "cell_type": "code",
   "execution_count": null,
   "metadata": {
    "collapsed": true,
    "deletable": true,
    "editable": true
   },
   "outputs": [],
   "source": []
  },
  {
   "cell_type": "markdown",
   "metadata": {
    "deletable": true,
    "editable": true
   },
   "source": [
    "#### Problem 5 softmax 구현\n",
    "  - softmax$(x_i)=\\frac{\\exp^{x_i}}{\\sum_{j=1}^{K}\\exp^{x_i}}$"
   ]
  },
  {
   "cell_type": "code",
   "execution_count": 30,
   "metadata": {
    "collapsed": false,
    "deletable": true,
    "editable": true
   },
   "outputs": [
    {
     "name": "stdout",
     "output_type": "stream",
     "text": [
      "softmax using tensorflow: \n",
      " [[ 0.16992231  0.12765571  0.07094713  0.05544443  0.05057109  0.04449829\n",
      "   0.06651492  0.35859632  0.0113751   0.04447464]]\n",
      "softmax using numpy: \n",
      " [[ 0.16992232  0.12765573  0.07094714  0.05544443  0.05057109  0.04449829\n",
      "   0.06651492  0.35859633  0.0113751   0.04447465]]\n"
     ]
    }
   ],
   "source": [
    "node1 = tf.placeholder(tf.float32)\n",
    "\n",
    "# TODO: implement softmax\n",
    "node2 = \n",
    "\n",
    "with tf.Session() as sess:\n",
    "    inp = np.random.randn(1,10)\n",
    "    print(\"softmax using tensorflow: \\n\", sess.run(node2, {node1:inp}))\n",
    "    #print(\"softmax using tensorflow: \\n\", sess.run(node2, {node1:inp}))\n",
    "    print(\"softmax using numpy: \\n\", np.exp(inp) / np.sum(np.exp(inp), axis=1))"
   ]
  },
  {
   "cell_type": "code",
   "execution_count": null,
   "metadata": {
    "collapsed": true,
    "deletable": true,
    "editable": true
   },
   "outputs": [],
   "source": []
  },
  {
   "cell_type": "markdown",
   "metadata": {
    "deletable": true,
    "editable": true
   },
   "source": [
    "#### Problem 6 L1 loss 정의\n",
    "  - $y_i$: ground-truth label\n",
    "  - $f(x_i)$: predicted label\n",
    "  - $L = \\sum_i{|y_i - f(x_i)|}$"
   ]
  },
  {
   "cell_type": "code",
   "execution_count": 14,
   "metadata": {
    "collapsed": true,
    "deletable": true,
    "editable": true
   },
   "outputs": [],
   "source": [
    "# define ground-truth label\n",
    "x = tf.placeholder(tf.float32)\n",
    "true_label = tf.placeholder(tf.float32) # y\n",
    "\n",
    "W = tf.Variable([.3], tf.float32)\n",
    "b = tf.Variable([-.3], tf.float32)\n",
    "linear_model = W * x + b # f(x)\n",
    "\n",
    "# TODO: define L1 loss\n",
    "l1_loss = "
   ]
  },
  {
   "cell_type": "code",
   "execution_count": null,
   "metadata": {
    "collapsed": true,
    "deletable": true,
    "editable": true
   },
   "outputs": [],
   "source": []
  },
  {
   "cell_type": "code",
   "execution_count": null,
   "metadata": {
    "collapsed": true,
    "deletable": true,
    "editable": true
   },
   "outputs": [],
   "source": [
    "cross_entropy_loss = -tf.reduce_sum(labels * tf.log(preds), reduction_indices=[1])"
   ]
  },
  {
   "cell_type": "markdown",
   "metadata": {
    "deletable": true,
    "editable": true
   },
   "source": [
    "#### Problem 7 cross-entropy loss 정의\n",
    "  - $y_i$: ground-truth label, one-hot vector\n",
    "  - $f(x_i)$: predicted label\n",
    "  - $L = -\\sum_i{y_i \\log(x_{i})}$"
   ]
  },
  {
   "cell_type": "code",
   "execution_count": 49,
   "metadata": {
    "collapsed": false,
    "deletable": true,
    "editable": true
   },
   "outputs": [
    {
     "name": "stdout",
     "output_type": "stream",
     "text": [
      "input prediction:\n",
      " [[ 0.11235787  0.8681087   0.05679359  0.63635814  0.40980719  0.03008798\n",
      "   0.06585013  0.64491219  0.15743517  0.27741525]]\n",
      "label:\n",
      " [ 0.  0.  0.  0.  0.  0.  0.  0.  0.  1.] \n",
      "\n",
      "cross_entropy loss tensorflow: \n",
      " [ 1.28223979]\n",
      "cross_entropy loss using numpy: \n",
      " [ 1.28223979]\n"
     ]
    }
   ],
   "source": [
    "node1 = tf.placeholder(tf.float32)\n",
    "node2 = tf.placeholder(tf.float32)\n",
    "\n",
    "# TODO: implement cross-entropy loss\n",
    "loss = -tf.reduce_sum(node2 * tf.log(node1), reduction_indices=[1])\n",
    "\n",
    "with tf.Session() as sess:\n",
    "    inp = np.abs(np.random.randn(1,10))\n",
    "    label = np.zeros(10)\n",
    "    label[np.random.randint(10)] = 1.0\n",
    "    print(\"input prediction:\\n\", inp)\n",
    "    print(\"label:\\n\", label, \"\\n\")\n",
    "    \n",
    "    print(\"cross_entropy loss tensorflow: \\n\", sess.run(loss, {node1:inp, node2:label}))\n",
    "    print(\"cross_entropy loss using numpy: \\n\", -np.sum(label*np.log(inp), 1))"
   ]
  }
 ],
 "metadata": {
  "kernelspec": {
   "display_name": "Python 3",
   "language": "python",
   "name": "python3"
  },
  "language_info": {
   "codemirror_mode": {
    "name": "ipython",
    "version": 3
   },
   "file_extension": ".py",
   "mimetype": "text/x-python",
   "name": "python",
   "nbconvert_exporter": "python",
   "pygments_lexer": "ipython3",
   "version": "3.5.3"
  }
 },
 "nbformat": 4,
 "nbformat_minor": 2
}
