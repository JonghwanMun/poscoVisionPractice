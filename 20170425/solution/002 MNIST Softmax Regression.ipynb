{
 "cells": [
  {
   "cell_type": "code",
   "execution_count": 1,
   "metadata": {
    "collapsed": true,
    "deletable": true,
    "editable": true
   },
   "outputs": [],
   "source": [
    "%matplotlib inline\n",
    "\n",
    "import random\n",
    "import numpy as np\n",
    "import tensorflow as tf\n",
    "import matplotlib.pyplot as plt"
   ]
  },
  {
   "cell_type": "markdown",
   "metadata": {
    "deletable": true,
    "editable": true
   },
   "source": [
    "### Load MNIST"
   ]
  },
  {
   "cell_type": "code",
   "execution_count": 2,
   "metadata": {
    "collapsed": false,
    "deletable": true,
    "editable": true
   },
   "outputs": [
    {
     "name": "stdout",
     "output_type": "stream",
     "text": [
      "Extracting MNIST_data/train-images-idx3-ubyte.gz\n",
      "Extracting MNIST_data/train-labels-idx1-ubyte.gz\n",
      "Extracting MNIST_data/t10k-images-idx3-ubyte.gz\n",
      "Extracting MNIST_data/t10k-labels-idx1-ubyte.gz\n"
     ]
    }
   ],
   "source": [
    "from tensorflow.examples.tutorials.mnist import input_data\n",
    "mnist = input_data.read_data_sets('MNIST_data', one_hot=True)"
   ]
  },
  {
   "cell_type": "markdown",
   "metadata": {
    "deletable": true,
    "editable": true
   },
   "source": [
    "#### 인풋 데이터 및 레이블 정의"
   ]
  },
  {
   "cell_type": "code",
   "execution_count": 3,
   "metadata": {
    "collapsed": true,
    "deletable": true,
    "editable": true
   },
   "outputs": [],
   "source": [
    "inps = tf.placeholder(tf.float32, [None, 784])\n",
    "labels = tf.placeholder(tf.float32, [None, 10])"
   ]
  },
  {
   "cell_type": "markdown",
   "metadata": {
    "deletable": true,
    "editable": true
   },
   "source": [
    "### Problem 1\n",
    "  - hidden layer 추가"
   ]
  },
  {
   "cell_type": "code",
   "execution_count": 4,
   "metadata": {
    "collapsed": false,
    "deletable": true,
    "editable": true
   },
   "outputs": [],
   "source": [
    "# TODO: 첫번째 레이어 구현 (784dim -> 10dim)\n",
    "# 아래 변수들을 정의하세요.\n",
    "weight_1 = tf.Variable(tf.zeros([784, 10]))\n",
    "bias_1 = tf.Variable(tf.zeros([10])) \n",
    "hidden_1 = tf.matmul(inps, weight_1) + bias_1"
   ]
  },
  {
   "cell_type": "code",
   "execution_count": 5,
   "metadata": {
    "collapsed": false,
    "deletable": true,
    "editable": true
   },
   "outputs": [],
   "source": [
    "# TODO: 첫번째 레이어 구현 (10dim -> 10dim)\n",
    "weight_2 = tf.Variable(tf.zeros([10, 10]))\n",
    "bias_2 = tf.Variable(tf.zeros([10]))\n",
    "hidden_2 = tf.matmul(hidden_1, weight_2) + bias_2"
   ]
  },
  {
   "cell_type": "markdown",
   "metadata": {
    "deletable": true,
    "editable": true
   },
   "source": [
    "### Problem 2\n",
    "  - linear layer 함수 구현"
   ]
  },
  {
   "cell_type": "code",
   "execution_count": 6,
   "metadata": {
    "collapsed": true,
    "deletable": true,
    "editable": true
   },
   "outputs": [],
   "source": [
    "# TODO: p-dim -> q-dim linear layer 함수 구현\n",
    "def linearLayer(inp, inp_dim, out_dim):\n",
    "    \"\"\" Linear 연산, \n",
    "    Args:\n",
    "        inp: 인풋 데이터 (batch_size, inp_dim)\n",
    "        inp_dim: 인풋 데이터의 크기\n",
    "        out_dim: hidden layer의 크기\n",
    "    Returns:\n",
    "        out: linear layer를 통과한 값 (batch_size, out_dim)\n",
    "    \"\"\"\n",
    "    \n",
    "    # 아래 변수들을 정의하세요.\n",
    "    weight = tf.Variable(tf.zeros([inp_dim, out_dim]))\n",
    "    bias = tf.Variable(tf.zeros([out_dim]))\n",
    "    out =  tf.matmul(inp, weight) + bias\n",
    "    return out"
   ]
  },
  {
   "cell_type": "code",
   "execution_count": 7,
   "metadata": {
    "collapsed": true,
    "deletable": true,
    "editable": true
   },
   "outputs": [],
   "source": [
    "# TODO: LinearLayer 함수를 이용해서 아래 변수를 정의하세요.\n",
    "hidden_1 = linearLayer(inps, 784, 10)\n",
    "hideen_2 = linearLayer(hidden_1, 10, 10)"
   ]
  },
  {
   "cell_type": "markdown",
   "metadata": {
    "deletable": true,
    "editable": true
   },
   "source": [
    "### 모델 성능 확인\n",
    "  - 약 11%로 성능이 떨어짐"
   ]
  },
  {
   "cell_type": "code",
   "execution_count": 10,
   "metadata": {
    "collapsed": false,
    "deletable": true,
    "editable": true
   },
   "outputs": [],
   "source": [
    "# loss 및 optimizer 정의\n",
    "pred = tf.nn.softmax(hidden_2)\n",
    "cross_entropy = tf.reduce_mean(-tf.reduce_sum(labels * tf.log(pred), reduction_indices=[1]))\n",
    "train_step = tf.train.GradientDescentOptimizer(0.5).minimize(cross_entropy)\n",
    "# 정확도 정의\n",
    "correct_prediction = tf.equal(tf.argmax(pred,1), tf.argmax(labels,1))\n",
    "accuracy = tf.reduce_mean(tf.cast(correct_prediction, tf.float32))"
   ]
  },
  {
   "cell_type": "code",
   "execution_count": 11,
   "metadata": {
    "collapsed": false,
    "deletable": true,
    "editable": true
   },
   "outputs": [
    {
     "name": "stdout",
     "output_type": "stream",
     "text": [
      "Epoch: 0001 Avg. cost = 2.302\n",
      "Epoch: 0002 Avg. cost = 2.302\n",
      "Epoch: 0003 Avg. cost = 2.301\n",
      "Epoch: 0004 Avg. cost = 2.301\n",
      "Epoch: 0005 Avg. cost = 2.301\n",
      "Epoch: 0006 Avg. cost = 2.301\n",
      "Epoch: 0007 Avg. cost = 2.301\n",
      "Epoch: 0008 Avg. cost = 2.301\n",
      "Epoch: 0009 Avg. cost = 2.301\n",
      "Epoch: 0010 Avg. cost = 2.301\n",
      "Epoch: 0011 Avg. cost = 2.301\n",
      "Epoch: 0012 Avg. cost = 2.301\n",
      "Epoch: 0013 Avg. cost = 2.301\n",
      "Epoch: 0014 Avg. cost = 2.301\n",
      "Epoch: 0015 Avg. cost = 2.301\n",
      "Test Accuracy:  0.1135\n"
     ]
    }
   ],
   "source": [
    "batch_size = 100\n",
    "total_batch = int(mnist.train.num_examples/batch_size)\n",
    "\n",
    "init = tf.global_variables_initializer()\n",
    "\n",
    "with tf.Session() as sess:\n",
    "    sess.run(init)\n",
    "    for epoch in range(15):\n",
    "        total_cost = 0\n",
    "\n",
    "        for i in range(total_batch):\n",
    "            batch_xs, batch_ys = mnist.train.next_batch(batch_size)\n",
    "            # 이미지 데이터를 CNN 모델을 위한 자료형태인 [28 28 1] 의 형태로 재구성합니다.\n",
    "            _, cost_val = sess.run([train_step, cross_entropy], \\\n",
    "                                   feed_dict={inps: batch_xs, labels: batch_ys})\n",
    "            total_cost += cost_val\n",
    "\n",
    "        print( \"Epoch:\", \"%04d\" % (epoch + 1), \\\n",
    "            \"Avg. cost =\", '{:.3f}'.format(total_cost / total_batch))\n",
    "\n",
    "    # 테스트 데이터에 대한 정확도\n",
    "    print(\"Test Accuracy: \", sess.run(accuracy, \\\n",
    "                    feed_dict={inps: mnist.test.images, labels: mnist.test.labels}))"
   ]
  }
 ],
 "metadata": {
  "kernelspec": {
   "display_name": "Python 3",
   "language": "python",
   "name": "python3"
  },
  "language_info": {
   "codemirror_mode": {
    "name": "ipython",
    "version": 3
   },
   "file_extension": ".py",
   "mimetype": "text/x-python",
   "name": "python",
   "nbconvert_exporter": "python",
   "pygments_lexer": "ipython3",
   "version": "3.5.3"
  }
 },
 "nbformat": 4,
 "nbformat_minor": 2
}
