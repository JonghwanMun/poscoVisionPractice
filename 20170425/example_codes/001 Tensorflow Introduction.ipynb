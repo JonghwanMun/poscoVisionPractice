{
 "cells": [
  {
   "cell_type": "code",
   "execution_count": 3,
   "metadata": {
    "collapsed": true,
    "deletable": true,
    "editable": true
   },
   "outputs": [],
   "source": [
    "%matplotlib inline\n",
    "\n",
    "import random\n",
    "import numpy as np\n",
    "import tensorflow as tf\n",
    "import matplotlib.pyplot as plt"
   ]
  },
  {
   "cell_type": "markdown",
   "metadata": {
    "deletable": true,
    "editable": true
   },
   "source": [
    "### Reference for API of tensorflow\n",
    " - https://www.tensorflow.org/api_docs/"
   ]
  },
  {
   "cell_type": "markdown",
   "metadata": {
    "deletable": true,
    "editable": true
   },
   "source": [
    "### 0.tensorflow 코드 기본 형태\n",
    "  - 준비 작업 \n",
    "      - 데이터 전처리\n",
    "      - 네트워크 정의\n",
    "  - 실제 작업 수행 (in session)\n",
    "      - session 실행\n",
    "      - session.run(output, input_values)"
   ]
  },
  {
   "cell_type": "code",
   "execution_count": 15,
   "metadata": {
    "collapsed": false,
    "deletable": true,
    "editable": true
   },
   "outputs": [
    {
     "name": "stdout",
     "output_type": "stream",
     "text": [
      "3.0\n"
     ]
    }
   ],
   "source": [
    "\"\"\"\n",
    "Construct computational graph\n",
    "\"\"\"\n",
    "# define variables\n",
    "node1 = tf.placeholder(tf.float32)\n",
    "node2 = tf.placeholder(tf.float32)\n",
    "\n",
    "\"\"\"\n",
    "Running graph in GPU\n",
    "\"\"\"\n",
    "with tf.Session() as sess:    \n",
    "    # Do your work (running model)\n",
    "    print(sess.run(node1+node2, {node1:1.0, node2:2.0}))"
   ]
  },
  {
   "cell_type": "markdown",
   "metadata": {
    "deletable": true,
    "editable": true
   },
   "source": [
    "### 1. Tensor 종류 \n",
    "#### 1.1 Constant (상수)\n",
    "  - 선언과 함께 초기화됨\n",
    "  - 값이 바뀌지 않음"
   ]
  },
  {
   "cell_type": "code",
   "execution_count": 4,
   "metadata": {
    "collapsed": false,
    "deletable": true,
    "editable": true
   },
   "outputs": [
    {
     "name": "stdout",
     "output_type": "stream",
     "text": [
      "Tensor(\"Const_2:0\", shape=(), dtype=float32)\n",
      "Tensor(\"Const_3:0\", shape=(), dtype=float32)\n"
     ]
    }
   ],
   "source": [
    "# constant (상수): no input, fixed (or predefined) output\n",
    "node1 = tf.constant(3.0, tf.float32)\n",
    "node2 = tf.constant(4.0) # also tf.float32 implicitly\n",
    "print(node1)\n",
    "print(node2)"
   ]
  },
  {
   "cell_type": "code",
   "execution_count": 7,
   "metadata": {
    "collapsed": false,
    "deletable": true,
    "editable": true
   },
   "outputs": [
    {
     "name": "stdout",
     "output_type": "stream",
     "text": [
      "[3.0, 4.0]\n"
     ]
    }
   ],
   "source": [
    "# check what is different\n",
    "with tf.Session() as sess:\n",
    "    print(sess.run([node1, node2]))"
   ]
  },
  {
   "cell_type": "markdown",
   "metadata": {
    "deletable": true,
    "editable": true
   },
   "source": [
    "#### 1.2 Placeholder\n",
    "  - 유저가 제공하는 값으로 데이터에 주로 사용 (e.g. 이미지, 텍스트 등)"
   ]
  },
  {
   "cell_type": "code",
   "execution_count": 7,
   "metadata": {
    "collapsed": false,
    "deletable": true,
    "editable": true
   },
   "outputs": [
    {
     "name": "stdout",
     "output_type": "stream",
     "text": [
      "Tensor(\"Placeholder_9:0\", dtype=float32)\n",
      "Tensor(\"Placeholder_10:0\", dtype=float32)\n",
      "\n",
      "one input for node1:\n",
      "7.0\n",
      "3.0\n",
      "two inputs for node1 and node2:\n",
      "[array([ 3.,  5.], dtype=float32), array([ 15.,  25.], dtype=float32)]\n",
      "--------------------------------------\n",
      "\n",
      "First output:  [ 3.  5.]\n",
      "Second output:  [ 15.  25.]\n"
     ]
    }
   ],
   "source": [
    "node1 = tf.placeholder(tf.float32)\n",
    "node2 = tf.placeholder(tf.float32)\n",
    "print(node1)\n",
    "print(node2)\n",
    "print(\"\")\n",
    "\n",
    "with tf.Session() as sess:\n",
    "    print(\"one input for node1:\")\n",
    "    print(sess.run(node1, {node1:7}))\n",
    "    print(sess.run(node1, {node1:3}))\n",
    "    print(\"two inputs for node1 and node2:\")\n",
    "    print(sess.run([node1,node2], {node1: [3,5], node2: [15,25]}))\n",
    "    print(\"--------------------------------------\\n\")\n",
    "    \n",
    "    output = sess.run([node1,node2], {node1: [3,5], node2: [15,25]})\n",
    "    print(\"First output: \", output[0])\n",
    "    print(\"Second output: \", output[1])"
   ]
  },
  {
   "cell_type": "markdown",
   "metadata": {
    "deletable": true,
    "editable": true
   },
   "source": [
    "#### 1.3 Variable\n",
    "  - 모델/네트워크의 파라미터에 주로 사용\n",
    "  - 선언과 함께 초기화되지 않기 때문에 tf.global_variables_initializer()를 호출해줘야 함"
   ]
  },
  {
   "cell_type": "code",
   "execution_count": 18,
   "metadata": {
    "collapsed": false,
    "deletable": true,
    "editable": true
   },
   "outputs": [
    {
     "name": "stdout",
     "output_type": "stream",
     "text": [
      "[ 0.          0.30000001  0.60000002  0.90000004]\n",
      "\n",
      "After chaning bias from 0.3 to 0.6\n",
      "[-0.60000002]\n",
      "[-0.30000001  0.          0.30000001  0.60000002]\n"
     ]
    }
   ],
   "source": [
    "# 모델 정의 (변수/인풋 선언)\n",
    "W = tf.Variable([.3], tf.float32)\n",
    "b = tf.Variable([-.3], tf.float32)\n",
    "x = tf.placeholder(tf.float32)\n",
    "linear_model = W * x + b # x * 0.3 - 0.3\n",
    "\n",
    "update_b = tf.assign(b, [-.6])\n",
    "\n",
    "# 변수 (W, b) 초기화\n",
    "init = tf.global_variables_initializer()\n",
    "\n",
    "with tf.Session() as sess:\n",
    "    # session에서 변수 초기화\n",
    "    sess.run(init)\n",
    "    \n",
    "    # model 실행\n",
    "    print(sess.run(linear_model, {x:[1,2,3,4]}))\n",
    "    \n",
    "    # change variables\n",
    "    \n",
    "    print(\"\\nAfter chaning bias from 0.3 to 0.6\")\n",
    "    print(sess.run(update_b))\n",
    "    print(sess.run(linear_model, {x:[1,2,3,4]}))"
   ]
  },
  {
   "cell_type": "markdown",
   "metadata": {
    "deletable": true,
    "editable": true
   },
   "source": [
    "### 2. Mathematic operation\n",
    " - reference:<br>\n",
    " https://www.tensorflow.org/versions/r0.11/api_docs/python/math_ops/arithmetic_operators\n",
    " https://www.tensorflow.org/versions/r0.11/api_docs/python/math_ops/basic_math_functions\n",
    " https://www.tensorflow.org/versions/r0.11/api_docs/python/math_ops/matrix_math_functions\n",
    " https://www.tensorflow.org/versions/r0.11/api_docs/python/math_ops/reduction\n",
    " - 주요 API (기본 연산) <br>\n",
    "     - tf.add(x,y): element-wise addition\n",
    "     - tf.sub(x,y): element-wise subtraction\n",
    "     - tf.mul(x,y): element-wise multiplication\n",
    "     - tf.scalar_mul(scalar, x): multipy a scalar to x\n",
    "     - tf.div(x,y): element-wise division \n",
    "     - tf.mod(x,y): element-wise remainder of division\n",
    " - 주요 API (산술 연산): <br>\n",
    "     - tf.abs(), tf.neg(), tf.inv(), tf.square(), tf.sqrt(), tf.pow(),tf.log(), tf.ceil(), tf.floor(), tf.maximum(), tf.minimum(), tf.cos(), tf.sin(), tf.tan()\n",
    " - 주요 API (벡터/매트릭스 연산): <br>\n",
    "     - tf.matmul(), tf.reduce_mean(), tf.reduce_sum(), reduce_min(), reduce_max(), \n",
    " - 필요에 따라 API를 검색해서 사용해주세요."
   ]
  },
  {
   "cell_type": "markdown",
   "metadata": {},
   "source": [
    "#### 2.1 기본 연산"
   ]
  },
  {
   "cell_type": "code",
   "execution_count": 2,
   "metadata": {
    "collapsed": false,
    "deletable": true,
    "editable": true
   },
   "outputs": [
    {
     "ename": "NameError",
     "evalue": "name 'tf' is not defined",
     "output_type": "error",
     "traceback": [
      "\u001b[0;31m---------------------------------------------------------------------------\u001b[0m",
      "\u001b[0;31mNameError\u001b[0m                                 Traceback (most recent call last)",
      "\u001b[0;32m<ipython-input-2-5378c3eed147>\u001b[0m in \u001b[0;36m<module>\u001b[0;34m()\u001b[0m\n\u001b[1;32m      1\u001b[0m \u001b[0;31m# element-wise addition (덧셈)\u001b[0m\u001b[0;34m\u001b[0m\u001b[0;34m\u001b[0m\u001b[0m\n\u001b[0;32m----> 2\u001b[0;31m \u001b[0madd_node3_1\u001b[0m \u001b[0;34m=\u001b[0m \u001b[0mtf\u001b[0m\u001b[0;34m.\u001b[0m\u001b[0madd\u001b[0m\u001b[0;34m(\u001b[0m\u001b[0mnode1\u001b[0m\u001b[0;34m,\u001b[0m \u001b[0mnode2\u001b[0m\u001b[0;34m)\u001b[0m\u001b[0;34m\u001b[0m\u001b[0m\n\u001b[0m\u001b[1;32m      3\u001b[0m \u001b[0madd_node3_2\u001b[0m \u001b[0;34m=\u001b[0m \u001b[0mnode1\u001b[0m \u001b[0;34m+\u001b[0m \u001b[0mnode2\u001b[0m\u001b[0;34m\u001b[0m\u001b[0m\n\u001b[1;32m      4\u001b[0m \u001b[0;34m\u001b[0m\u001b[0m\n\u001b[1;32m      5\u001b[0m \u001b[0;31m# element-wise multiplication (곱셈)\u001b[0m\u001b[0;34m\u001b[0m\u001b[0;34m\u001b[0m\u001b[0m\n",
      "\u001b[0;31mNameError\u001b[0m: name 'tf' is not defined"
     ]
    }
   ],
   "source": [
    "# element-wise addition (덧셈)\n",
    "add_node3_1 = tf.add(node1, node2)\n",
    "add_node3_2 = node1 + node2\n",
    "\n",
    "# element-wise multiplication (곱셈)\n",
    "mult_node4_1 = tf.mul(node1, node2)\n",
    "mult_node4_2 = node1 * node2\n",
    "\n",
    "print(\"add_node3_1: \", add_node3_1)\n",
    "print(\"add_node3_2: \", add_node3_2)\n",
    "print(\"mult_node4_1: \", mult_node4_1)\n",
    "print(\"mult_node4_2: \", mult_node4_2)\n",
    "print(\"\")\n",
    "with tf.Session() as sess:\n",
    "    print(\"sess.run(node3): \", sess.run(node3_1))\n",
    "    print(\"sess.run(node3): \", sess.run(node3_2))"
   ]
  },
  {
   "cell_type": "markdown",
   "metadata": {
    "deletable": true,
    "editable": true
   },
   "source": [
    "#### Mathematic operation (산술 연산) with user typed inputs"
   ]
  },
  {
   "cell_type": "code",
   "execution_count": 15,
   "metadata": {
    "collapsed": false,
    "deletable": true,
    "editable": true
   },
   "outputs": [
    {
     "name": "stdout",
     "output_type": "stream",
     "text": [
      "7.5\n",
      "[ 4.  7.]\n"
     ]
    }
   ],
   "source": [
    "node1 = tf.placeholder(tf.float32)\n",
    "node2 = tf.placeholder(tf.float32)\n",
    "adder_node = node1 + node2 # (=tf.add(node1, node2))\n",
    "\n",
    "with tf.Session() as sess:\n",
    "    print(sess.run(adder_node, {node1: 3, node2: 4.5}))\n",
    "    print(sess.run(adder_node, {node1: [1,2], node2: [3,5]}))"
   ]
  },
  {
   "cell_type": "code",
   "execution_count": 16,
   "metadata": {
    "collapsed": false,
    "deletable": true,
    "editable": true
   },
   "outputs": [
    {
     "name": "stdout",
     "output_type": "stream",
     "text": [
      "22.5\n",
      "[ 12.  21.]\n"
     ]
    }
   ],
   "source": [
    "node1 = tf.placeholder(tf.float32)\n",
    "node2 = tf.placeholder(tf.float32)\n",
    "adder_node = node1 + node2 # (=tf.add(node1, node2))\n",
    "out_node = adder_node * 3\n",
    "\n",
    "with tf.Session() as sess:\n",
    "    print(sess.run(out_node, {node1: 3, node2: 4.5}))\n",
    "    print(sess.run(out_node, {node1: [1,2], node2: [3,5]}))"
   ]
  }
 ],
 "metadata": {
  "kernelspec": {
   "display_name": "Python 3",
   "language": "python",
   "name": "python3"
  },
  "language_info": {
   "codemirror_mode": {
    "name": "ipython",
    "version": 3
   },
   "file_extension": ".py",
   "mimetype": "text/x-python",
   "name": "python",
   "nbconvert_exporter": "python",
   "pygments_lexer": "ipython3",
   "version": "3.5.3"
  }
 },
 "nbformat": 4,
 "nbformat_minor": 2
}
