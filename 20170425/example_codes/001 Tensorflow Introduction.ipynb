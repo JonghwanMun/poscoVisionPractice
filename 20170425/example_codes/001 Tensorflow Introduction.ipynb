{
 "cells": [
  {
   "cell_type": "code",
   "execution_count": 1,
   "metadata": {
    "collapsed": true,
    "deletable": true,
    "editable": true
   },
   "outputs": [],
   "source": [
    "%matplotlib inline\n",
    "\n",
    "import random\n",
    "import numpy as np\n",
    "import tensorflow as tf\n",
    "import matplotlib.pyplot as plt"
   ]
  },
  {
   "cell_type": "markdown",
   "metadata": {
    "deletable": true,
    "editable": true
   },
   "source": [
    "### Reference for API of tensorflow\n",
    " - https://www.tensorflow.org/api_docs/"
   ]
  },
  {
   "cell_type": "markdown",
   "metadata": {
    "deletable": true,
    "editable": true
   },
   "source": [
    "### 0.tensorflow 코드 기본 형태\n",
    "  - 준비 작업 \n",
    "      - 데이터 전처리\n",
    "      - 네트워크 정의\n",
    "  - 실제 작업 수행 (in session)\n",
    "      - session 실행\n",
    "      - session.run(output, input_values)"
   ]
  },
  {
   "cell_type": "code",
   "execution_count": null,
   "metadata": {
    "collapsed": false,
    "deletable": true,
    "editable": true
   },
   "outputs": [],
   "source": [
    "\"\"\"\n",
    "    Construct model/network\n",
    "    TODO: preparing training data and construct model\n",
    "\"\"\"\n",
    "# prepare training data\n",
    "x_train = [1,2,3,4]     # input data\n",
    "y_train = [0,-1,-2,-3]  # label\n",
    "\n",
    "# Model parameters\n",
    "W = tf.Variable([.3], tf.float32)\n",
    "b = tf.Variable([-.3], tf.float32)\n",
    "# Model input and output\n",
    "x = tf.placeholder(tf.float32)\n",
    "linear_model = W * x + b\n",
    "y = tf.placeholder(tf.float32)\n",
    "# loss\n",
    "loss = tf.reduce_sum(tf.square(linear_model - y)) # sum of the squares\n",
    "# optimizer\n",
    "optimizer = tf.train.GradientDescentOptimizer(0.01)\n",
    "train = optimizer.minimize(loss)\n",
    "\n",
    "# initialize variables\n",
    "init = tf.global_variables_initializer()\n",
    "\n",
    "\"\"\"\n",
    "    Running graph in GPU\n",
    "    TODO: running and updating model\n",
    "\"\"\"\n",
    "with tf.Session() as sess:    \n",
    "    # session initialization\n",
    "    sess.run(init)\n",
    "    \n",
    "    curr_W, curr_b, curr_loss  = sess.run([W, b, loss], {x:x_train, y:y_train})\n",
    "    print(\"Initial W: %s b: %s loss: %s\"%(curr_W, curr_b, curr_loss))\n",
    "    \n",
    "    # training the model \n",
    "    for i in range(1000):\n",
    "        sess.run(train, {x:x_train, y:y_train})\n",
    "    \n",
    "    # evaluating model\n",
    "    curr_W, curr_b, curr_loss  = sess.run([W, b, loss], {x:x_train, y:y_train})\n",
    "    print(\"Final W: %s b: %s loss: %s\"%(curr_W, curr_b, curr_loss))"
   ]
  },
  {
   "cell_type": "markdown",
   "metadata": {
    "deletable": true,
    "editable": true
   },
   "source": [
    "### 1. Tensor 종류 \n",
    "  - constant, placeholder, variable\n",
    "  \n",
    "#### 1.1 Constant (상수)\n",
    "  - 선언과 함께 초기화됨\n",
    "  - 값이 바뀌지 않음"
   ]
  },
  {
   "cell_type": "code",
   "execution_count": 2,
   "metadata": {
    "collapsed": false,
    "deletable": true,
    "editable": true
   },
   "outputs": [
    {
     "name": "stdout",
     "output_type": "stream",
     "text": [
      "Tensor(\"Const:0\", shape=(), dtype=float32)\n",
      "Tensor(\"Const_1:0\", shape=(), dtype=float32)\n"
     ]
    }
   ],
   "source": [
    "# constant (상수): no input, fixed (or predefined) output\n",
    "node1 = tf.constant(3.0, tf.float32)\n",
    "node2 = tf.constant(4.0) # also tf.float32 implicitly\n",
    "print(node1)\n",
    "print(node2)"
   ]
  },
  {
   "cell_type": "code",
   "execution_count": 3,
   "metadata": {
    "collapsed": false,
    "deletable": true,
    "editable": true
   },
   "outputs": [
    {
     "name": "stdout",
     "output_type": "stream",
     "text": [
      "[3.0, 4.0]\n"
     ]
    }
   ],
   "source": [
    "# check what is different\n",
    "with tf.Session() as sess:\n",
    "    print(sess.run([node1, node2]))"
   ]
  },
  {
   "cell_type": "markdown",
   "metadata": {
    "deletable": true,
    "editable": true
   },
   "source": [
    "#### 1.2 Placeholder\n",
    "  - 유저가 제공하는 값으로 데이터에 주로 사용 (e.g. 이미지, 텍스트 등)"
   ]
  },
  {
   "cell_type": "code",
   "execution_count": 4,
   "metadata": {
    "collapsed": false,
    "deletable": true,
    "editable": true
   },
   "outputs": [
    {
     "name": "stdout",
     "output_type": "stream",
     "text": [
      "Tensor(\"Placeholder:0\", dtype=float32)\n",
      "Tensor(\"Placeholder_1:0\", dtype=float32)\n",
      "\n",
      "one input for node1:\n",
      "7.0\n",
      "3.0\n",
      "two inputs for node1 and node2:\n",
      "[array([ 3.,  5.], dtype=float32), array([ 15.,  25.], dtype=float32)]\n",
      "--------------------------------------\n",
      "\n",
      "First output:  [ 3.  5.]\n",
      "Second output:  [ 15.  25.]\n"
     ]
    }
   ],
   "source": [
    "node1 = tf.placeholder(tf.float32)\n",
    "node2 = tf.placeholder(tf.float32)\n",
    "print(node1)\n",
    "print(node2)\n",
    "print(\"\")\n",
    "\n",
    "with tf.Session() as sess:\n",
    "    print(\"one input for node1:\")\n",
    "    print(sess.run(node1, {node1:7}))\n",
    "    print(sess.run(node1, {node1:3}))\n",
    "    print(\"two inputs for node1 and node2:\")\n",
    "    print(sess.run([node1,node2], {node1: [3,5], node2: [15,25]}))\n",
    "    print(\"--------------------------------------\\n\")\n",
    "    \n",
    "    output = sess.run([node1,node2], {node1: [3,5], node2: [15,25]})\n",
    "    print(\"First output: \", output[0])\n",
    "    print(\"Second output: \", output[1])"
   ]
  },
  {
   "cell_type": "markdown",
   "metadata": {
    "deletable": true,
    "editable": true
   },
   "source": [
    "#### 1.3 Variable\n",
    "  - 모델/네트워크의 파라미터에 주로 사용\n",
    "  - 선언과 함께 초기화되지 않기 때문에 tf.global_variables_initializer()를 호출해줘야 함"
   ]
  },
  {
   "cell_type": "code",
   "execution_count": 5,
   "metadata": {
    "collapsed": false,
    "deletable": true,
    "editable": true
   },
   "outputs": [
    {
     "name": "stdout",
     "output_type": "stream",
     "text": [
      "[ 0.          0.30000001  0.60000002  0.90000004]\n"
     ]
    }
   ],
   "source": [
    "# 모델 정의 (변수/인풋 선언)\n",
    "W = tf.Variable([.3], tf.float32)\n",
    "b = tf.Variable([-.3], tf.float32)\n",
    "x = tf.placeholder(tf.float32)\n",
    "linear_model = W * x + b # x * 0.3 - 0.3\n",
    "update_b = tf.assign(b, [-.6])  # 변수 값 변환\n",
    "\n",
    "# 변수 (W, b) 초기화\n",
    "init = tf.global_variables_initializer()\n",
    "\n",
    "with tf.Session() as sess:\n",
    "    # session에서 변수 초기화\n",
    "    sess.run(init)\n",
    "    \n",
    "    # model 실행\n",
    "    print(sess.run(linear_model, {x:[1,2,3,4]}))\n",
    "    \n",
    "    # change variables\n",
    "    print(\"\\nAfter chaning bias from -0.3 to -0.6\") # linear_model = x * 0.3 - 0.6\n",
    "    print(sess.run(update_b))\n",
    "    print(sess.run(linear_model, {x:[1,2,3,4]}))"
   ]
  },
  {
   "cell_type": "code",
   "execution_count": null,
   "metadata": {
    "collapsed": true,
    "deletable": true,
    "editable": true
   },
   "outputs": [],
   "source": []
  },
  {
   "cell_type": "markdown",
   "metadata": {
    "deletable": true,
    "editable": true
   },
   "source": [
    "### 2. Mathematic operation\n",
    " - reference:<br>\n",
    " https://www.tensorflow.org/versions/master/api_guides/python/math_ops#Arithmetic_Operators\n",
    " - 주요 API (기본 연산) <br>\n",
    "     - tf.add(x,y): element-wise addition\n",
    "     - tf.subtract(x,y): element-wise subtraction\n",
    "     - tf.multiply(x,y): element-wise multiplication\n",
    "     - tf.scalar_mul(scalar, x): multipy a scalar to x\n",
    "     - tf.div(x,y): element-wise division \n",
    "     - tf.mod(x,y): element-wise remainder of division\n",
    " - 주요 API (산술 연산): <br>\n",
    "     - tf.abs(), tf.neg(), tf.inv(), tf.square(), tf.sqrt(), tf.pow(),tf.log(), tf.ceil(), tf.floor(), tf.maximum(), tf.minimum(), tf.cos(), tf.sin(), tf.tan()\n",
    " - 주요 API (벡터/매트릭스 연산): <br>\n",
    "     - tf.matmul(), tf.reduce_mean(), tf.reduce_sum(), reduce_min(), reduce_max(), \n",
    " - 필요에 따라 API를 검색해서 사용해주세요."
   ]
  },
  {
   "cell_type": "markdown",
   "metadata": {
    "deletable": true,
    "editable": true
   },
   "source": [
    "#### 2.1 기본 연산"
   ]
  },
  {
   "cell_type": "code",
   "execution_count": 6,
   "metadata": {
    "collapsed": false,
    "deletable": true,
    "editable": true
   },
   "outputs": [
    {
     "name": "stdout",
     "output_type": "stream",
     "text": [
      "add_node3_1:  Tensor(\"Add:0\", shape=(), dtype=float32)\n",
      "add_node3_2:  Tensor(\"add_1:0\", shape=(), dtype=float32)\n",
      "mul_node4_1:  Tensor(\"Mul:0\", shape=(), dtype=float32)\n",
      "mul_node4_2:  Tensor(\"mul_1:0\", shape=(), dtype=float32)\n",
      "\n",
      "sess.run(add_node3_1):  0.9\n",
      "sess.run(add_node3_2):  0.9\n",
      "sess.run(mul_node4_1):  0.18\n",
      "sess.run(mul_node4_2):  0.18\n"
     ]
    }
   ],
   "source": [
    "node1 = tf.constant(0.3)\n",
    "node2 = tf.constant(0.6)\n",
    "\n",
    "# element-wise addition (덧셈)\n",
    "add_node3_1 = tf.add(node1, node2)\n",
    "add_node3_2 = node1 + node2\n",
    "\n",
    "# element-wise multiplication (곱셈)\n",
    "mul_node4_1 = tf.multiply(node1, node2)\n",
    "mul_node4_2 = node1 * node2\n",
    "\n",
    "print(\"add_node3_1: \", add_node3_1)\n",
    "print(\"add_node3_2: \", add_node3_2)\n",
    "print(\"mul_node4_1: \", mul_node4_1)\n",
    "print(\"mul_node4_2: \", mul_node4_2)\n",
    "print(\"\")\n",
    "with tf.Session() as sess:\n",
    "    print(\"sess.run(add_node3_1): \", sess.run(add_node3_1))\n",
    "    print(\"sess.run(add_node3_2): \", sess.run(add_node3_2))\n",
    "    print(\"sess.run(mul_node4_1): \", sess.run(mul_node4_1))\n",
    "    print(\"sess.run(mul_node4_2): \", sess.run(mul_node4_2))"
   ]
  },
  {
   "cell_type": "markdown",
   "metadata": {
    "deletable": true,
    "editable": true
   },
   "source": [
    "#### 2.2 산술 연산"
   ]
  },
  {
   "cell_type": "code",
   "execution_count": 8,
   "metadata": {
    "collapsed": false,
    "deletable": true,
    "editable": true
   },
   "outputs": [
    {
     "name": "stdout",
     "output_type": "stream",
     "text": [
      "input matrix:\n",
      "[[0 1]\n",
      " [2 3]] \n",
      "\n",
      "sess.run(square_node2): \n",
      " [[ 0.  1.]\n",
      " [ 4.  9.]]\n"
     ]
    }
   ],
   "source": [
    "inp = np.arange(0,4).reshape(2,2)\n",
    "node1 = tf.constant(inp, tf.float32)\n",
    "print(\"input matrix:\")\n",
    "print(inp, \"\\n\")\n",
    "\n",
    "# Computing suare values\n",
    "square_node2 = tf.square(node1)\n",
    "\n",
    "with tf.Session() as sess:\n",
    "    print(\"sess.run(square_node2): \\n\", sess.run(square_node2))"
   ]
  },
  {
   "cell_type": "markdown",
   "metadata": {
    "deletable": true,
    "editable": true
   },
   "source": [
    "#### 2.2 벡터/매트릭스 연산"
   ]
  },
  {
   "cell_type": "code",
   "execution_count": 9,
   "metadata": {
    "collapsed": false,
    "deletable": true,
    "editable": true
   },
   "outputs": [
    {
     "name": "stdout",
     "output_type": "stream",
     "text": [
      "input matrix:\n",
      "[[-0.71693953  3.77481167]\n",
      " [ 0.27593423  2.25580511]] \n",
      "\n",
      "sess.run(max_node2):  3.77481\n",
      "sess.run(max_node2_1dim):  [ 0.27593422  3.77481174]\n",
      "sess.run(max_node2_2dim):  [ 3.77481174  2.25580502]\n"
     ]
    }
   ],
   "source": [
    "inp = np.random.randn(2,2)\n",
    "node1 = tf.constant(inp, tf.float32)\n",
    "print(\"input matrix:\")\n",
    "print(inp, \"\\n\")\n",
    "\n",
    "# finding maximum value\n",
    "max_node2 = tf.reduce_max(node1)\n",
    "max_node2_1dim = tf.reduce_max(node1, axis=0)\n",
    "max_node2_2dim = tf.reduce_max(node1, axis=1)\n",
    "\n",
    "with tf.Session() as sess:\n",
    "    print(\"sess.run(max_node2): \", sess.run(max_node2))\n",
    "    print(\"sess.run(max_node2_1dim): \", sess.run(max_node2_1dim))\n",
    "    print(\"sess.run(max_node2_2dim): \", sess.run(max_node2_2dim))"
   ]
  },
  {
   "cell_type": "code",
   "execution_count": null,
   "metadata": {
    "collapsed": true,
    "deletable": true,
    "editable": true
   },
   "outputs": [],
   "source": []
  },
  {
   "cell_type": "markdown",
   "metadata": {
    "deletable": true,
    "editable": true
   },
   "source": [
    "### 3. Model Training\n",
    "#### 3.1 Loss 정의\n",
    " - cross-entropy loss, l2 normalization loss, hinge loss, etc"
   ]
  },
  {
   "cell_type": "code",
   "execution_count": 14,
   "metadata": {
    "collapsed": true,
    "deletable": true,
    "editable": true
   },
   "outputs": [],
   "source": [
    "# define ground-truth label\n",
    "x = tf.placeholder(tf.float32)\n",
    "true_label = tf.placeholder(tf.float32)\n",
    "\n",
    "W = tf.Variable([.3], tf.float32)\n",
    "b = tf.Variable([-.3], tf.float32)\n",
    "linear_model = W * x + b # x * 0.3 - 0.3\n",
    "\n",
    "# define regression loss\n",
    "squared_diff = tf.square(linear_model - true_label)\n",
    "loss = tf.reduce_sum(squared_diff)"
   ]
  },
  {
   "cell_type": "markdown",
   "metadata": {
    "deletable": true,
    "editable": true
   },
   "source": [
    "#### 3.2 모델 업데이트\n",
    " - loss에 대한 파라미터의 gradient 계산\n",
    " - gradient를 이용하여 모델 파라미터 업데이트\n",
    "     - $\\theta=\\theta-learning\\_rate*d\\theta$\n",
    " - 위의 작업은 optimizer를 이용하여 간단하게 구현 가능\n",
    " - optimizer 종류\n",
    "      - GradientDescentOptimizer, AdagradOptimizer, RMSPropOptimizer, AdamOptimizer"
   ]
  },
  {
   "cell_type": "code",
   "execution_count": 24,
   "metadata": {
    "collapsed": false,
    "deletable": true,
    "editable": true
   },
   "outputs": [
    {
     "name": "stdout",
     "output_type": "stream",
     "text": [
      "W: [ 0.30000001] b: [-0.30000001] loss: 23.66\n"
     ]
    }
   ],
   "source": [
    "optimizer = tf.train.GradientDescentOptimizer(0.01)\n",
    "train = optimizer.minimize(loss)\n",
    "\n",
    "init = tf.global_variables_initializer()\n",
    "with tf.Session() as sess:\n",
    "    sess.run(init)\n",
    "    curr_W, curr_b, curr_loss, _ = \\\n",
    "            sess.run([W,b,loss,train], {x:[1,2,3,4], true_label:[0,-1,-2,-3]})\n",
    "    print(\"W: %s b: %s loss: %s\"%(curr_W, curr_b, curr_loss))"
   ]
  }
 ],
 "metadata": {
  "kernelspec": {
   "display_name": "Python 3",
   "language": "python",
   "name": "python3"
  },
  "language_info": {
   "codemirror_mode": {
    "name": "ipython",
    "version": 3
   },
   "file_extension": ".py",
   "mimetype": "text/x-python",
   "name": "python",
   "nbconvert_exporter": "python",
   "pygments_lexer": "ipython3",
   "version": "3.5.3"
  }
 },
 "nbformat": 4,
 "nbformat_minor": 2
}
